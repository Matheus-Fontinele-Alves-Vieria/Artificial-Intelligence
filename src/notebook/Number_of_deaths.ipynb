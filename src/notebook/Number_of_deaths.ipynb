{
 "cells": [
  {
   "cell_type": "markdown",
   "metadata": {},
   "source": [
    "# Preâmbulo"
   ]
  },
  {
   "cell_type": "code",
   "execution_count": 1,
   "metadata": {},
   "outputs": [],
   "source": [
    "# Biblioteca básica para o tratamento de dados\n",
    "import pandas as pd\n",
    "import numpy as np"
   ]
  },
  {
   "cell_type": "code",
   "execution_count": 2,
   "metadata": {},
   "outputs": [],
   "source": [
    "# Biblioteca para visualização de dados\n",
    "from ipywidgets import interact\n",
    "%matplotlib inline\n",
    "import matplotlib.pyplot as plt"
   ]
  },
  {
   "cell_type": "code",
   "execution_count": 3,
   "metadata": {},
   "outputs": [],
   "source": [
    "# Bibliotecas específicas para o aprendizado de máquina\n",
    "from sklearn.preprocessing import StandardScaler\n",
    "from sklearn.model_selection import train_test_split\n",
    "from sklearn.metrics import mean_squared_error, r2_score\n",
    "from sklearn.linear_model import SGDRegressor"
   ]
  },
  {
   "cell_type": "markdown",
   "metadata": {},
   "source": [
    "# Carregamento dos dados"
   ]
  },
  {
   "cell_type": "markdown",
   "metadata": {},
   "source": [
    "#### Number of deaths by risk factor"
   ]
  },
  {
   "cell_type": "code",
   "execution_count": 4,
   "metadata": {},
   "outputs": [
    {
     "data": {
      "text/html": [
       "<div>\n",
       "<style scoped>\n",
       "    .dataframe tbody tr th:only-of-type {\n",
       "        vertical-align: middle;\n",
       "    }\n",
       "\n",
       "    .dataframe tbody tr th {\n",
       "        vertical-align: top;\n",
       "    }\n",
       "\n",
       "    .dataframe thead th {\n",
       "        text-align: right;\n",
       "    }\n",
       "</style>\n",
       "<table border=\"1\" class=\"dataframe\">\n",
       "  <thead>\n",
       "    <tr style=\"text-align: right;\">\n",
       "      <th></th>\n",
       "      <th>Entity</th>\n",
       "      <th>Code</th>\n",
       "      <th>Year</th>\n",
       "      <th>Deaths - Cause: All causes - Risk: Outdoor air pollution - OWID - Sex: Both - Age: All Ages (Number)</th>\n",
       "      <th>Deaths - Cause: All causes - Risk: High systolic blood pressure - Sex: Both - Age: All Ages (Number)</th>\n",
       "      <th>Deaths - Cause: All causes - Risk: Diet high in sodium - Sex: Both - Age: All Ages (Number)</th>\n",
       "      <th>Deaths - Cause: All causes - Risk: Diet low in whole grains - Sex: Both - Age: All Ages (Number)</th>\n",
       "      <th>Deaths - Cause: All causes - Risk: Alcohol use - Sex: Both - Age: All Ages (Number)</th>\n",
       "      <th>Deaths - Cause: All causes - Risk: Diet low in fruits - Sex: Both - Age: All Ages (Number)</th>\n",
       "      <th>Deaths - Cause: All causes - Risk: Unsafe water source - Sex: Both - Age: All Ages (Number)</th>\n",
       "      <th>...</th>\n",
       "      <th>Deaths - Cause: All causes - Risk: High body-mass index - Sex: Both - Age: All Ages (Number)</th>\n",
       "      <th>Deaths - Cause: All causes - Risk: Unsafe sanitation - Sex: Both - Age: All Ages (Number)</th>\n",
       "      <th>Deaths - Cause: All causes - Risk: No access to handwashing facility - Sex: Both - Age: All Ages (Number)</th>\n",
       "      <th>Deaths - Cause: All causes - Risk: Drug use - Sex: Both - Age: All Ages (Number)</th>\n",
       "      <th>Deaths - Cause: All causes - Risk: Low bone mineral density - Sex: Both - Age: All Ages (Number)</th>\n",
       "      <th>Deaths - Cause: All causes - Risk: Vitamin A deficiency - Sex: Both - Age: All Ages (Number)</th>\n",
       "      <th>Deaths - Cause: All causes - Risk: Child stunting - Sex: Both - Age: All Ages (Number)</th>\n",
       "      <th>Deaths - Cause: All causes - Risk: Discontinued breastfeeding - Sex: Both - Age: All Ages (Number)</th>\n",
       "      <th>Deaths - Cause: All causes - Risk: Non-exclusive breastfeeding - Sex: Both - Age: All Ages (Number)</th>\n",
       "      <th>Deaths - Cause: All causes - Risk: Iron deficiency - Sex: Both - Age: All Ages (Number)</th>\n",
       "    </tr>\n",
       "  </thead>\n",
       "  <tbody>\n",
       "    <tr>\n",
       "      <th>0</th>\n",
       "      <td>Afghanistan</td>\n",
       "      <td>AFG</td>\n",
       "      <td>1990</td>\n",
       "      <td>3169</td>\n",
       "      <td>25633</td>\n",
       "      <td>1045</td>\n",
       "      <td>7077</td>\n",
       "      <td>356</td>\n",
       "      <td>3185</td>\n",
       "      <td>3702</td>\n",
       "      <td>...</td>\n",
       "      <td>9518</td>\n",
       "      <td>2798</td>\n",
       "      <td>4825</td>\n",
       "      <td>174</td>\n",
       "      <td>389</td>\n",
       "      <td>2016</td>\n",
       "      <td>7686</td>\n",
       "      <td>107</td>\n",
       "      <td>2216</td>\n",
       "      <td>564</td>\n",
       "    </tr>\n",
       "    <tr>\n",
       "      <th>1</th>\n",
       "      <td>Afghanistan</td>\n",
       "      <td>AFG</td>\n",
       "      <td>1991</td>\n",
       "      <td>3222</td>\n",
       "      <td>25872</td>\n",
       "      <td>1055</td>\n",
       "      <td>7149</td>\n",
       "      <td>364</td>\n",
       "      <td>3248</td>\n",
       "      <td>4309</td>\n",
       "      <td>...</td>\n",
       "      <td>9489</td>\n",
       "      <td>3254</td>\n",
       "      <td>5127</td>\n",
       "      <td>188</td>\n",
       "      <td>389</td>\n",
       "      <td>2056</td>\n",
       "      <td>7886</td>\n",
       "      <td>121</td>\n",
       "      <td>2501</td>\n",
       "      <td>611</td>\n",
       "    </tr>\n",
       "    <tr>\n",
       "      <th>2</th>\n",
       "      <td>Afghanistan</td>\n",
       "      <td>AFG</td>\n",
       "      <td>1992</td>\n",
       "      <td>3395</td>\n",
       "      <td>26309</td>\n",
       "      <td>1075</td>\n",
       "      <td>7297</td>\n",
       "      <td>376</td>\n",
       "      <td>3351</td>\n",
       "      <td>5356</td>\n",
       "      <td>...</td>\n",
       "      <td>9528</td>\n",
       "      <td>4042</td>\n",
       "      <td>5889</td>\n",
       "      <td>211</td>\n",
       "      <td>393</td>\n",
       "      <td>2100</td>\n",
       "      <td>8568</td>\n",
       "      <td>150</td>\n",
       "      <td>3053</td>\n",
       "      <td>700</td>\n",
       "    </tr>\n",
       "    <tr>\n",
       "      <th>3</th>\n",
       "      <td>Afghanistan</td>\n",
       "      <td>AFG</td>\n",
       "      <td>1993</td>\n",
       "      <td>3623</td>\n",
       "      <td>26961</td>\n",
       "      <td>1103</td>\n",
       "      <td>7499</td>\n",
       "      <td>389</td>\n",
       "      <td>3480</td>\n",
       "      <td>7152</td>\n",
       "      <td>...</td>\n",
       "      <td>9611</td>\n",
       "      <td>5392</td>\n",
       "      <td>7007</td>\n",
       "      <td>232</td>\n",
       "      <td>411</td>\n",
       "      <td>2316</td>\n",
       "      <td>9875</td>\n",
       "      <td>204</td>\n",
       "      <td>3726</td>\n",
       "      <td>773</td>\n",
       "    </tr>\n",
       "    <tr>\n",
       "      <th>4</th>\n",
       "      <td>Afghanistan</td>\n",
       "      <td>AFG</td>\n",
       "      <td>1994</td>\n",
       "      <td>3788</td>\n",
       "      <td>27658</td>\n",
       "      <td>1134</td>\n",
       "      <td>7698</td>\n",
       "      <td>399</td>\n",
       "      <td>3610</td>\n",
       "      <td>7192</td>\n",
       "      <td>...</td>\n",
       "      <td>9675</td>\n",
       "      <td>5418</td>\n",
       "      <td>7421</td>\n",
       "      <td>247</td>\n",
       "      <td>413</td>\n",
       "      <td>2665</td>\n",
       "      <td>11031</td>\n",
       "      <td>204</td>\n",
       "      <td>3833</td>\n",
       "      <td>812</td>\n",
       "    </tr>\n",
       "    <tr>\n",
       "      <th>...</th>\n",
       "      <td>...</td>\n",
       "      <td>...</td>\n",
       "      <td>...</td>\n",
       "      <td>...</td>\n",
       "      <td>...</td>\n",
       "      <td>...</td>\n",
       "      <td>...</td>\n",
       "      <td>...</td>\n",
       "      <td>...</td>\n",
       "      <td>...</td>\n",
       "      <td>...</td>\n",
       "      <td>...</td>\n",
       "      <td>...</td>\n",
       "      <td>...</td>\n",
       "      <td>...</td>\n",
       "      <td>...</td>\n",
       "      <td>...</td>\n",
       "      <td>...</td>\n",
       "      <td>...</td>\n",
       "      <td>...</td>\n",
       "      <td>...</td>\n",
       "    </tr>\n",
       "    <tr>\n",
       "      <th>6835</th>\n",
       "      <td>Zimbabwe</td>\n",
       "      <td>ZWE</td>\n",
       "      <td>2015</td>\n",
       "      <td>2835</td>\n",
       "      <td>11483</td>\n",
       "      <td>1063</td>\n",
       "      <td>1354</td>\n",
       "      <td>4854</td>\n",
       "      <td>1820</td>\n",
       "      <td>4336</td>\n",
       "      <td>...</td>\n",
       "      <td>5636</td>\n",
       "      <td>2879</td>\n",
       "      <td>4328</td>\n",
       "      <td>1068</td>\n",
       "      <td>407</td>\n",
       "      <td>138</td>\n",
       "      <td>730</td>\n",
       "      <td>21</td>\n",
       "      <td>734</td>\n",
       "      <td>282</td>\n",
       "    </tr>\n",
       "    <tr>\n",
       "      <th>6836</th>\n",
       "      <td>Zimbabwe</td>\n",
       "      <td>ZWE</td>\n",
       "      <td>2016</td>\n",
       "      <td>2781</td>\n",
       "      <td>11663</td>\n",
       "      <td>1082</td>\n",
       "      <td>1383</td>\n",
       "      <td>4915</td>\n",
       "      <td>1854</td>\n",
       "      <td>4244</td>\n",
       "      <td>...</td>\n",
       "      <td>5849</td>\n",
       "      <td>2798</td>\n",
       "      <td>4295</td>\n",
       "      <td>1042</td>\n",
       "      <td>415</td>\n",
       "      <td>101</td>\n",
       "      <td>674</td>\n",
       "      <td>20</td>\n",
       "      <td>700</td>\n",
       "      <td>275</td>\n",
       "    </tr>\n",
       "    <tr>\n",
       "      <th>6837</th>\n",
       "      <td>Zimbabwe</td>\n",
       "      <td>ZWE</td>\n",
       "      <td>2017</td>\n",
       "      <td>2700</td>\n",
       "      <td>11819</td>\n",
       "      <td>1098</td>\n",
       "      <td>1409</td>\n",
       "      <td>4992</td>\n",
       "      <td>1883</td>\n",
       "      <td>4193</td>\n",
       "      <td>...</td>\n",
       "      <td>6047</td>\n",
       "      <td>2744</td>\n",
       "      <td>4251</td>\n",
       "      <td>1007</td>\n",
       "      <td>424</td>\n",
       "      <td>82</td>\n",
       "      <td>629</td>\n",
       "      <td>19</td>\n",
       "      <td>678</td>\n",
       "      <td>267</td>\n",
       "    </tr>\n",
       "    <tr>\n",
       "      <th>6838</th>\n",
       "      <td>Zimbabwe</td>\n",
       "      <td>ZWE</td>\n",
       "      <td>2018</td>\n",
       "      <td>2669</td>\n",
       "      <td>12002</td>\n",
       "      <td>1117</td>\n",
       "      <td>1439</td>\n",
       "      <td>5044</td>\n",
       "      <td>1917</td>\n",
       "      <td>4013</td>\n",
       "      <td>...</td>\n",
       "      <td>6248</td>\n",
       "      <td>2608</td>\n",
       "      <td>4153</td>\n",
       "      <td>969</td>\n",
       "      <td>434</td>\n",
       "      <td>85</td>\n",
       "      <td>607</td>\n",
       "      <td>17</td>\n",
       "      <td>644</td>\n",
       "      <td>261</td>\n",
       "    </tr>\n",
       "    <tr>\n",
       "      <th>6839</th>\n",
       "      <td>Zimbabwe</td>\n",
       "      <td>ZWE</td>\n",
       "      <td>2019</td>\n",
       "      <td>2680</td>\n",
       "      <td>12241</td>\n",
       "      <td>1140</td>\n",
       "      <td>1475</td>\n",
       "      <td>5156</td>\n",
       "      <td>1960</td>\n",
       "      <td>3914</td>\n",
       "      <td>...</td>\n",
       "      <td>6475</td>\n",
       "      <td>2531</td>\n",
       "      <td>4113</td>\n",
       "      <td>963</td>\n",
       "      <td>438</td>\n",
       "      <td>81</td>\n",
       "      <td>585</td>\n",
       "      <td>16</td>\n",
       "      <td>631</td>\n",
       "      <td>259</td>\n",
       "    </tr>\n",
       "  </tbody>\n",
       "</table>\n",
       "<p>6840 rows × 31 columns</p>\n",
       "</div>"
      ],
      "text/plain": [
       "           Entity Code  Year  \\\n",
       "0     Afghanistan  AFG  1990   \n",
       "1     Afghanistan  AFG  1991   \n",
       "2     Afghanistan  AFG  1992   \n",
       "3     Afghanistan  AFG  1993   \n",
       "4     Afghanistan  AFG  1994   \n",
       "...           ...  ...   ...   \n",
       "6835     Zimbabwe  ZWE  2015   \n",
       "6836     Zimbabwe  ZWE  2016   \n",
       "6837     Zimbabwe  ZWE  2017   \n",
       "6838     Zimbabwe  ZWE  2018   \n",
       "6839     Zimbabwe  ZWE  2019   \n",
       "\n",
       "      Deaths - Cause: All causes - Risk: Outdoor air pollution - OWID - Sex: Both - Age: All Ages (Number)  \\\n",
       "0                                                  3169                                                      \n",
       "1                                                  3222                                                      \n",
       "2                                                  3395                                                      \n",
       "3                                                  3623                                                      \n",
       "4                                                  3788                                                      \n",
       "...                                                 ...                                                      \n",
       "6835                                               2835                                                      \n",
       "6836                                               2781                                                      \n",
       "6837                                               2700                                                      \n",
       "6838                                               2669                                                      \n",
       "6839                                               2680                                                      \n",
       "\n",
       "      Deaths - Cause: All causes - Risk: High systolic blood pressure - Sex: Both - Age: All Ages (Number)  \\\n",
       "0                                                 25633                                                      \n",
       "1                                                 25872                                                      \n",
       "2                                                 26309                                                      \n",
       "3                                                 26961                                                      \n",
       "4                                                 27658                                                      \n",
       "...                                                 ...                                                      \n",
       "6835                                              11483                                                      \n",
       "6836                                              11663                                                      \n",
       "6837                                              11819                                                      \n",
       "6838                                              12002                                                      \n",
       "6839                                              12241                                                      \n",
       "\n",
       "      Deaths - Cause: All causes - Risk: Diet high in sodium - Sex: Both - Age: All Ages (Number)  \\\n",
       "0                                                  1045                                             \n",
       "1                                                  1055                                             \n",
       "2                                                  1075                                             \n",
       "3                                                  1103                                             \n",
       "4                                                  1134                                             \n",
       "...                                                 ...                                             \n",
       "6835                                               1063                                             \n",
       "6836                                               1082                                             \n",
       "6837                                               1098                                             \n",
       "6838                                               1117                                             \n",
       "6839                                               1140                                             \n",
       "\n",
       "      Deaths - Cause: All causes - Risk: Diet low in whole grains - Sex: Both - Age: All Ages (Number)  \\\n",
       "0                                                  7077                                                  \n",
       "1                                                  7149                                                  \n",
       "2                                                  7297                                                  \n",
       "3                                                  7499                                                  \n",
       "4                                                  7698                                                  \n",
       "...                                                 ...                                                  \n",
       "6835                                               1354                                                  \n",
       "6836                                               1383                                                  \n",
       "6837                                               1409                                                  \n",
       "6838                                               1439                                                  \n",
       "6839                                               1475                                                  \n",
       "\n",
       "      Deaths - Cause: All causes - Risk: Alcohol use - Sex: Both - Age: All Ages (Number)  \\\n",
       "0                                                   356                                     \n",
       "1                                                   364                                     \n",
       "2                                                   376                                     \n",
       "3                                                   389                                     \n",
       "4                                                   399                                     \n",
       "...                                                 ...                                     \n",
       "6835                                               4854                                     \n",
       "6836                                               4915                                     \n",
       "6837                                               4992                                     \n",
       "6838                                               5044                                     \n",
       "6839                                               5156                                     \n",
       "\n",
       "      Deaths - Cause: All causes - Risk: Diet low in fruits - Sex: Both - Age: All Ages (Number)  \\\n",
       "0                                                  3185                                            \n",
       "1                                                  3248                                            \n",
       "2                                                  3351                                            \n",
       "3                                                  3480                                            \n",
       "4                                                  3610                                            \n",
       "...                                                 ...                                            \n",
       "6835                                               1820                                            \n",
       "6836                                               1854                                            \n",
       "6837                                               1883                                            \n",
       "6838                                               1917                                            \n",
       "6839                                               1960                                            \n",
       "\n",
       "      Deaths - Cause: All causes - Risk: Unsafe water source - Sex: Both - Age: All Ages (Number)  \\\n",
       "0                                                  3702                                             \n",
       "1                                                  4309                                             \n",
       "2                                                  5356                                             \n",
       "3                                                  7152                                             \n",
       "4                                                  7192                                             \n",
       "...                                                 ...                                             \n",
       "6835                                               4336                                             \n",
       "6836                                               4244                                             \n",
       "6837                                               4193                                             \n",
       "6838                                               4013                                             \n",
       "6839                                               3914                                             \n",
       "\n",
       "      ...  \\\n",
       "0     ...   \n",
       "1     ...   \n",
       "2     ...   \n",
       "3     ...   \n",
       "4     ...   \n",
       "...   ...   \n",
       "6835  ...   \n",
       "6836  ...   \n",
       "6837  ...   \n",
       "6838  ...   \n",
       "6839  ...   \n",
       "\n",
       "      Deaths - Cause: All causes - Risk: High body-mass index - Sex: Both - Age: All Ages (Number)  \\\n",
       "0                                                  9518                                              \n",
       "1                                                  9489                                              \n",
       "2                                                  9528                                              \n",
       "3                                                  9611                                              \n",
       "4                                                  9675                                              \n",
       "...                                                 ...                                              \n",
       "6835                                               5636                                              \n",
       "6836                                               5849                                              \n",
       "6837                                               6047                                              \n",
       "6838                                               6248                                              \n",
       "6839                                               6475                                              \n",
       "\n",
       "      Deaths - Cause: All causes - Risk: Unsafe sanitation - Sex: Both - Age: All Ages (Number)  \\\n",
       "0                                                  2798                                           \n",
       "1                                                  3254                                           \n",
       "2                                                  4042                                           \n",
       "3                                                  5392                                           \n",
       "4                                                  5418                                           \n",
       "...                                                 ...                                           \n",
       "6835                                               2879                                           \n",
       "6836                                               2798                                           \n",
       "6837                                               2744                                           \n",
       "6838                                               2608                                           \n",
       "6839                                               2531                                           \n",
       "\n",
       "      Deaths - Cause: All causes - Risk: No access to handwashing facility - Sex: Both - Age: All Ages (Number)  \\\n",
       "0                                                  4825                                                           \n",
       "1                                                  5127                                                           \n",
       "2                                                  5889                                                           \n",
       "3                                                  7007                                                           \n",
       "4                                                  7421                                                           \n",
       "...                                                 ...                                                           \n",
       "6835                                               4328                                                           \n",
       "6836                                               4295                                                           \n",
       "6837                                               4251                                                           \n",
       "6838                                               4153                                                           \n",
       "6839                                               4113                                                           \n",
       "\n",
       "      Deaths - Cause: All causes - Risk: Drug use - Sex: Both - Age: All Ages (Number)  \\\n",
       "0                                                   174                                  \n",
       "1                                                   188                                  \n",
       "2                                                   211                                  \n",
       "3                                                   232                                  \n",
       "4                                                   247                                  \n",
       "...                                                 ...                                  \n",
       "6835                                               1068                                  \n",
       "6836                                               1042                                  \n",
       "6837                                               1007                                  \n",
       "6838                                                969                                  \n",
       "6839                                                963                                  \n",
       "\n",
       "      Deaths - Cause: All causes - Risk: Low bone mineral density - Sex: Both - Age: All Ages (Number)  \\\n",
       "0                                                   389                                                  \n",
       "1                                                   389                                                  \n",
       "2                                                   393                                                  \n",
       "3                                                   411                                                  \n",
       "4                                                   413                                                  \n",
       "...                                                 ...                                                  \n",
       "6835                                                407                                                  \n",
       "6836                                                415                                                  \n",
       "6837                                                424                                                  \n",
       "6838                                                434                                                  \n",
       "6839                                                438                                                  \n",
       "\n",
       "      Deaths - Cause: All causes - Risk: Vitamin A deficiency - Sex: Both - Age: All Ages (Number)  \\\n",
       "0                                                  2016                                              \n",
       "1                                                  2056                                              \n",
       "2                                                  2100                                              \n",
       "3                                                  2316                                              \n",
       "4                                                  2665                                              \n",
       "...                                                 ...                                              \n",
       "6835                                                138                                              \n",
       "6836                                                101                                              \n",
       "6837                                                 82                                              \n",
       "6838                                                 85                                              \n",
       "6839                                                 81                                              \n",
       "\n",
       "      Deaths - Cause: All causes - Risk: Child stunting - Sex: Both - Age: All Ages (Number)  \\\n",
       "0                                                  7686                                        \n",
       "1                                                  7886                                        \n",
       "2                                                  8568                                        \n",
       "3                                                  9875                                        \n",
       "4                                                 11031                                        \n",
       "...                                                 ...                                        \n",
       "6835                                                730                                        \n",
       "6836                                                674                                        \n",
       "6837                                                629                                        \n",
       "6838                                                607                                        \n",
       "6839                                                585                                        \n",
       "\n",
       "      Deaths - Cause: All causes - Risk: Discontinued breastfeeding - Sex: Both - Age: All Ages (Number)  \\\n",
       "0                                                   107                                                    \n",
       "1                                                   121                                                    \n",
       "2                                                   150                                                    \n",
       "3                                                   204                                                    \n",
       "4                                                   204                                                    \n",
       "...                                                 ...                                                    \n",
       "6835                                                 21                                                    \n",
       "6836                                                 20                                                    \n",
       "6837                                                 19                                                    \n",
       "6838                                                 17                                                    \n",
       "6839                                                 16                                                    \n",
       "\n",
       "      Deaths - Cause: All causes - Risk: Non-exclusive breastfeeding - Sex: Both - Age: All Ages (Number)  \\\n",
       "0                                                  2216                                                     \n",
       "1                                                  2501                                                     \n",
       "2                                                  3053                                                     \n",
       "3                                                  3726                                                     \n",
       "4                                                  3833                                                     \n",
       "...                                                 ...                                                     \n",
       "6835                                                734                                                     \n",
       "6836                                                700                                                     \n",
       "6837                                                678                                                     \n",
       "6838                                                644                                                     \n",
       "6839                                                631                                                     \n",
       "\n",
       "      Deaths - Cause: All causes - Risk: Iron deficiency - Sex: Both - Age: All Ages (Number)  \n",
       "0                                                   564                                        \n",
       "1                                                   611                                        \n",
       "2                                                   700                                        \n",
       "3                                                   773                                        \n",
       "4                                                   812                                        \n",
       "...                                                 ...                                        \n",
       "6835                                                282                                        \n",
       "6836                                                275                                        \n",
       "6837                                                267                                        \n",
       "6838                                                261                                        \n",
       "6839                                                259                                        \n",
       "\n",
       "[6840 rows x 31 columns]"
      ]
     },
     "execution_count": 4,
     "metadata": {},
     "output_type": "execute_result"
    }
   ],
   "source": [
    "df_number_of_deaths_by_risk_factor = pd.read_csv('../data/Air-pollution/number-of-deaths-by-risk-factor.csv')\n",
    "df_number_of_deaths_by_risk_factor"
   ]
  },
  {
   "cell_type": "markdown",
   "metadata": {},
   "source": [
    "# Pré-processamento"
   ]
  },
  {
   "cell_type": "code",
   "execution_count": 5,
   "metadata": {},
   "outputs": [],
   "source": [
    "df_number_of_deaths_by_risk_factor.rename(columns={\n",
    "    'Deaths - Cause: All causes - Risk: Outdoor air pollution - OWID - Sex: Both - Age: All Ages (Number)': 'Outdoor air pollution',\n",
    "    'Deaths - Cause: All causes - Risk: High systolic blood pressure - Sex: Both - Age: All Ages (Number)': 'High systolic blood pressure',\n",
    "    'Deaths - Cause: All causes - Risk: Diet high in sodium - Sex: Both - Age: All Ages (Number)': 'Diet high in sodium',\n",
    "    'Deaths - Cause: All causes - Risk: Diet low in whole grains - Sex: Both - Age: All Ages (Number)': 'Diet low in whole grains',\n",
    "    'Deaths - Cause: All causes - Risk: Alcohol use - Sex: Both - Age: All Ages (Number)': 'Alcohol use',\n",
    "    'Deaths - Cause: All causes - Risk: Diet low in fruits - Sex: Both - Age: All Ages (Number)': 'Diet low in fruits',\n",
    "    'Deaths - Cause: All causes - Risk: Unsafe water source - Sex: Both - Age: All Ages (Number)': 'Unsafe water source',\n",
    "    'Deaths - Cause: All causes - Risk: Secondhand smoke - Sex: Both - Age: All Ages (Number)': 'Secondhand smoke',\n",
    "    'Deaths - Cause: All causes - Risk: Low birth weight - Sex: Both - Age: All Ages (Number)': 'Low birth weight',\n",
    "    'Deaths - Cause: All causes - Risk: Child wasting - Sex: Both - Age: All Ages (Number)': 'Child wasting',\n",
    "    'Deaths - Cause: All causes - Risk: Unsafe sex - Sex: Both - Age: All Ages (Number)': 'Unsafe sex',\n",
    "    'Deaths - Cause: All causes - Risk: Diet low in nuts and seeds - Sex: Both - Age: All Ages (Number)': 'Diet low in nuts and seeds',\n",
    "    'Deaths - Cause: All causes - Risk: Household air pollution from solid fuels - Sex: Both - Age: All Ages (Number)': 'Household air pollution from solid fuels',\n",
    "    'Deaths - Cause: All causes - Risk: Diet low in vegetables - Sex: Both - Age: All Ages (Number)': 'Diet low in vegetables',\n",
    "    'Deaths - Cause: All causes - Risk: Low physical activity - Sex: Both - Age: All Ages (Number)': 'Low physical activity',\n",
    "    'Deaths - Cause: All causes - Risk: Smoking - Sex: Both - Age: All Ages (Number)': 'Smoking',\n",
    "    'Deaths - Cause: All causes - Risk: High fasting plasma glucose - Sex: Both - Age: All Ages (Number)': 'High fasting plasma glucose',\n",
    "    'Deaths - Cause: All causes - Risk: Air pollution - Sex: Both - Age: All Ages (Number)': 'Air pollution',\n",
    "    'Deaths - Cause: All causes - Risk: High body-mass index - Sex: Both - Age: All Ages (Number)': 'High body-mass index',\n",
    "    'Deaths - Cause: All causes - Risk: Unsafe sanitation - Sex: Both - Age: All Ages (Number)': 'Unsafe sanitation',\n",
    "    'Deaths - Cause: All causes - Risk: No access to handwashing facility - Sex: Both - Age: All Ages (Number)': 'No access to handwashing facility',\n",
    "    'Deaths - Cause: All causes - Risk: Drug use - Sex: Both - Age: All Ages (Number)': 'Drug use',\n",
    "    'Deaths - Cause: All causes - Risk: Low bone mineral density - Sex: Both - Age: All Ages (Number)': 'Low bone mineral density',\n",
    "    'Deaths - Cause: All causes - Risk: Vitamin A deficiency - Sex: Both - Age: All Ages (Number)': 'Vitamin A deficiency',\n",
    "    'Deaths - Cause: All causes - Risk: Child stunting - Sex: Both - Age: All Ages (Number)': 'Child stunting',\n",
    "    'Deaths - Cause: All causes - Risk: Discontinued breastfeeding - Sex: Both - Age: All Ages (Number)': 'Discontinued breastfeeding',\n",
    "    'Deaths - Cause: All causes - Risk: Non-exclusive breastfeeding - Sex: Both - Age: All Ages (Number)': 'Non-exclusive breastfeeding',\n",
    "    'Deaths - Cause: All causes - Risk: Iron deficiency - Sex: Both - Age: All Ages (Number)': 'Iron deficiency',\n",
    "}, inplace=True)"
   ]
  },
  {
   "cell_type": "code",
   "execution_count": 6,
   "metadata": {},
   "outputs": [],
   "source": [
    "df_number_of_deaths_by_risk_factor.drop(columns=[\n",
    "    'Code',\n",
    "    'Low physical activity',\n",
    "    'Non-exclusive breastfeeding',\n",
    "    'Child wasting',\n",
    "    'High systolic blood pressure',\n",
    "    'High fasting plasma glucose',\n",
    "    'Child stunting',\n",
    "    'High body-mass index',\n",
    "    'Secondhand smoke',\n",
    "    'Diet low in fruits',\n",
    "    'Diet high in sodium',\n",
    "    'Drug use',\n",
    "    'Household air pollution from solid fuels',\n",
    "    'Low bone mineral density',\n",
    "    'Smoking',\n",
    "    'Vitamin A deficiency',\n",
    "    'Unsafe sanitation',\n",
    "    'Unsafe water source',\n",
    "    'Diet low in vegetables',\n",
    "    'Low birth weight',\n",
    "    'Diet low in nuts and seeds',\n",
    "    'Diet low in whole grains',\n",
    "    'Alcohol use',\n",
    "    'No access to handwashing facility',\n",
    "    'Discontinued breastfeeding',\n",
    "    'Iron deficiency',\n",
    "    'Unsafe sex',\n",
    "    'Outdoor air pollution'\n",
    "], inplace=True)"
   ]
  },
  {
   "cell_type": "code",
   "execution_count": 7,
   "metadata": {},
   "outputs": [
    {
     "data": {
      "text/html": [
       "<div>\n",
       "<style scoped>\n",
       "    .dataframe tbody tr th:only-of-type {\n",
       "        vertical-align: middle;\n",
       "    }\n",
       "\n",
       "    .dataframe tbody tr th {\n",
       "        vertical-align: top;\n",
       "    }\n",
       "\n",
       "    .dataframe thead th {\n",
       "        text-align: right;\n",
       "    }\n",
       "</style>\n",
       "<table border=\"1\" class=\"dataframe\">\n",
       "  <thead>\n",
       "    <tr style=\"text-align: right;\">\n",
       "      <th></th>\n",
       "      <th>Entity</th>\n",
       "      <th>Year</th>\n",
       "      <th>Air pollution</th>\n",
       "    </tr>\n",
       "  </thead>\n",
       "  <tbody>\n",
       "    <tr>\n",
       "      <th>0</th>\n",
       "      <td>Afghanistan</td>\n",
       "      <td>1990</td>\n",
       "      <td>37231</td>\n",
       "    </tr>\n",
       "    <tr>\n",
       "      <th>1</th>\n",
       "      <td>Afghanistan</td>\n",
       "      <td>1991</td>\n",
       "      <td>38315</td>\n",
       "    </tr>\n",
       "    <tr>\n",
       "      <th>2</th>\n",
       "      <td>Afghanistan</td>\n",
       "      <td>1992</td>\n",
       "      <td>41172</td>\n",
       "    </tr>\n",
       "    <tr>\n",
       "      <th>3</th>\n",
       "      <td>Afghanistan</td>\n",
       "      <td>1993</td>\n",
       "      <td>44488</td>\n",
       "    </tr>\n",
       "    <tr>\n",
       "      <th>4</th>\n",
       "      <td>Afghanistan</td>\n",
       "      <td>1994</td>\n",
       "      <td>46634</td>\n",
       "    </tr>\n",
       "    <tr>\n",
       "      <th>...</th>\n",
       "      <td>...</td>\n",
       "      <td>...</td>\n",
       "      <td>...</td>\n",
       "    </tr>\n",
       "    <tr>\n",
       "      <th>6835</th>\n",
       "      <td>Zimbabwe</td>\n",
       "      <td>2015</td>\n",
       "      <td>13246</td>\n",
       "    </tr>\n",
       "    <tr>\n",
       "      <th>6836</th>\n",
       "      <td>Zimbabwe</td>\n",
       "      <td>2016</td>\n",
       "      <td>13131</td>\n",
       "    </tr>\n",
       "    <tr>\n",
       "      <th>6837</th>\n",
       "      <td>Zimbabwe</td>\n",
       "      <td>2017</td>\n",
       "      <td>12926</td>\n",
       "    </tr>\n",
       "    <tr>\n",
       "      <th>6838</th>\n",
       "      <td>Zimbabwe</td>\n",
       "      <td>2018</td>\n",
       "      <td>12745</td>\n",
       "    </tr>\n",
       "    <tr>\n",
       "      <th>6839</th>\n",
       "      <td>Zimbabwe</td>\n",
       "      <td>2019</td>\n",
       "      <td>12667</td>\n",
       "    </tr>\n",
       "  </tbody>\n",
       "</table>\n",
       "<p>6840 rows × 3 columns</p>\n",
       "</div>"
      ],
      "text/plain": [
       "           Entity  Year  Air pollution\n",
       "0     Afghanistan  1990          37231\n",
       "1     Afghanistan  1991          38315\n",
       "2     Afghanistan  1992          41172\n",
       "3     Afghanistan  1993          44488\n",
       "4     Afghanistan  1994          46634\n",
       "...           ...   ...            ...\n",
       "6835     Zimbabwe  2015          13246\n",
       "6836     Zimbabwe  2016          13131\n",
       "6837     Zimbabwe  2017          12926\n",
       "6838     Zimbabwe  2018          12745\n",
       "6839     Zimbabwe  2019          12667\n",
       "\n",
       "[6840 rows x 3 columns]"
      ]
     },
     "execution_count": 7,
     "metadata": {},
     "output_type": "execute_result"
    }
   ],
   "source": [
    "df_number_of_deaths_by_risk_factor"
   ]
  },
  {
   "cell_type": "code",
   "execution_count": 8,
   "metadata": {},
   "outputs": [],
   "source": [
    "Brazil = df_number_of_deaths_by_risk_factor[df_number_of_deaths_by_risk_factor['Entity'] == 'Brazil']"
   ]
  },
  {
   "cell_type": "code",
   "execution_count": 9,
   "metadata": {},
   "outputs": [],
   "source": [
    "br = Brazil.set_index(['Year'])"
   ]
  },
  {
   "cell_type": "code",
   "execution_count": 10,
   "metadata": {},
   "outputs": [
    {
     "data": {
      "image/png": "[encoded data removed]",
      "text/plain": [
       "<Figure size 1440x720 with 1 Axes>"
      ]
     },
     "metadata": {
      "needs_background": "light"
     },
     "output_type": "display_data"
    }
   ],
   "source": [
    "br.plot(ylabel = 'Air pollution (Deaths numbers)', figsize = (20,10))\n",
    "plt.show()"
   ]
  },
  {
   "cell_type": "code",
   "execution_count": 11,
   "metadata": {},
   "outputs": [],
   "source": [
    "X_br = Brazil[['Year']]\n",
    "Y_br = Brazil[['Air pollution']]"
   ]
  },
  {
   "cell_type": "code",
   "execution_count": 12,
   "metadata": {},
   "outputs": [],
   "source": [
    "X_train_br, X_test_br, Y_train_br, Y_test_br = train_test_split(X_br, Y_br, test_size=0.3, shuffle=False) # separação dos dados de treino e teste"
   ]
  },
  {
   "cell_type": "markdown",
   "metadata": {},
   "source": [
    "# Processamento"
   ]
  },
  {
   "cell_type": "code",
   "execution_count": 13,
   "metadata": {},
   "outputs": [],
   "source": [
    "reglinear = SGDRegressor(max_iter=2000, #número máximo de iterações\n",
    "                         tol=0.0000001, #tolerância\n",
    "                         eta0=0.01, #taxa de aprendizado\n",
    "                         learning_rate=\"constant\", #taxa de aprendizado constante\n",
    "                         verbose=True #mostrar o progresso\n",
    "                        )"
   ]
  },
  {
   "cell_type": "code",
   "execution_count": 14,
   "metadata": {},
   "outputs": [
    {
     "name": "stdout",
     "output_type": "stream",
     "text": [
      "-- Epoch 1\n",
      "Norm: 19905097796655.01, NNZs: 1, Bias: -10027436930.681999, T: 21, Avg. loss: 339408078951089758314277120245760.000000\n",
      "Total training time: 0.00 seconds.\n",
      "-- Epoch 2\n",
      "Norm: 355116698239.62, NNZs: 1, Bias: -27436930.681999, T: 42, Avg. loss: 408804152738787851118286192246784.000000\n",
      "Total training time: 0.00 seconds.\n",
      "-- Epoch 3\n",
      "Norm: 19284693361121.04, NNZs: 1, Bias: -10027436930.681999, T: 63, Avg. loss: 363953532430305920939818229956608.000000\n",
      "Total training time: 0.00 seconds.\n",
      "-- Epoch 4\n",
      "Norm: 695511685385.37, NNZs: 1, Bias: -27436930.681999, T: 84, Avg. loss: 390222314013676488279264837238784.000000\n",
      "Total training time: 0.00 seconds.\n",
      "-- Epoch 5\n",
      "Norm: 19244300092234.50, NNZs: 1, Bias: -10027436930.681999, T: 105, Avg. loss: 360681051561766171415022598619136.000000\n",
      "Total training time: 0.00 seconds.\n",
      "-- Epoch 6\n",
      "Norm: 455906666010.17, NNZs: 1, Bias: -27436930.681999, T: 126, Avg. loss: 392965456899938506822429855186944.000000\n",
      "Total training time: 0.00 seconds.\n",
      "Convergence after 6 epochs took 0.00 seconds\n"
     ]
    },
    {
     "name": "stderr",
     "output_type": "stream",
     "text": [
      "c:\\Users\\Matheus Vieira\\anaconda3\\envs\\ai4cs\\lib\\site-packages\\sklearn\\utils\\validation.py:1111: DataConversionWarning: A column-vector y was passed when a 1d array was expected. Please change the shape of y to (n_samples, ), for example using ravel().\n",
      "  y = column_or_1d(y, warn=True)\n"
     ]
    },
    {
     "data": {
      "text/html": [
       "<style>#sk-container-id-1 {color: black;background-color: white;}#sk-container-id-1 pre{padding: 0;}#sk-container-id-1 div.sk-toggleable {background-color: white;}#sk-container-id-1 label.sk-toggleable__label {cursor: pointer;display: block;width: 100%;margin-bottom: 0;padding: 0.3em;box-sizing: border-box;text-align: center;}#sk-container-id-1 label.sk-toggleable__label-arrow:before {content: \"▸\";float: left;margin-right: 0.25em;color: #696969;}#sk-container-id-1 label.sk-toggleable__label-arrow:hover:before {color: black;}#sk-container-id-1 div.sk-estimator:hover label.sk-toggleable__label-arrow:before {color: black;}#sk-container-id-1 div.sk-toggleable__content {max-height: 0;max-width: 0;overflow: hidden;text-align: left;background-color: #f0f8ff;}#sk-container-id-1 div.sk-toggleable__content pre {margin: 0.2em;color: black;border-radius: 0.25em;background-color: #f0f8ff;}#sk-container-id-1 input.sk-toggleable__control:checked~div.sk-toggleable__content {max-height: 200px;max-width: 100%;overflow: auto;}#sk-container-id-1 input.sk-toggleable__control:checked~label.sk-toggleable__label-arrow:before {content: \"▾\";}#sk-container-id-1 div.sk-estimator input.sk-toggleable__control:checked~label.sk-toggleable__label {background-color: #d4ebff;}#sk-container-id-1 div.sk-label input.sk-toggleable__control:checked~label.sk-toggleable__label {background-color: #d4ebff;}#sk-container-id-1 input.sk-hidden--visually {border: 0;clip: rect(1px 1px 1px 1px);clip: rect(1px, 1px, 1px, 1px);height: 1px;margin: -1px;overflow: hidden;padding: 0;position: absolute;width: 1px;}#sk-container-id-1 div.sk-estimator {font-family: monospace;background-color: #f0f8ff;border: 1px dotted black;border-radius: 0.25em;box-sizing: border-box;margin-bottom: 0.5em;}#sk-container-id-1 div.sk-estimator:hover {background-color: #d4ebff;}#sk-container-id-1 div.sk-parallel-item::after {content: \"\";width: 100%;border-bottom: 1px solid gray;flex-grow: 1;}#sk-container-id-1 div.sk-label:hover label.sk-toggleable__label {background-color: #d4ebff;}#sk-container-id-1 div.sk-serial::before {content: \"\";position: absolute;border-left: 1px solid gray;box-sizing: border-box;top: 0;bottom: 0;left: 50%;z-index: 0;}#sk-container-id-1 div.sk-serial {display: flex;flex-direction: column;align-items: center;background-color: white;padding-right: 0.2em;padding-left: 0.2em;position: relative;}#sk-container-id-1 div.sk-item {position: relative;z-index: 1;}#sk-container-id-1 div.sk-parallel {display: flex;align-items: stretch;justify-content: center;background-color: white;position: relative;}#sk-container-id-1 div.sk-item::before, #sk-container-id-1 div.sk-parallel-item::before {content: \"\";position: absolute;border-left: 1px solid gray;box-sizing: border-box;top: 0;bottom: 0;left: 50%;z-index: -1;}#sk-container-id-1 div.sk-parallel-item {display: flex;flex-direction: column;z-index: 1;position: relative;background-color: white;}#sk-container-id-1 div.sk-parallel-item:first-child::after {align-self: flex-end;width: 50%;}#sk-container-id-1 div.sk-parallel-item:last-child::after {align-self: flex-start;width: 50%;}#sk-container-id-1 div.sk-parallel-item:only-child::after {width: 0;}#sk-container-id-1 div.sk-dashed-wrapped {border: 1px dashed gray;margin: 0 0.4em 0.5em 0.4em;box-sizing: border-box;padding-bottom: 0.4em;background-color: white;}#sk-container-id-1 div.sk-label label {font-family: monospace;font-weight: bold;display: inline-block;line-height: 1.2em;}#sk-container-id-1 div.sk-label-container {text-align: center;}#sk-container-id-1 div.sk-container {/* jupyter's `normalize.less` sets `[hidden] { display: none; }` but bootstrap.min.css set `[hidden] { display: none !important; }` so we also need the `!important` here to be able to override the default hidden behavior on the sphinx rendered scikit-learn.org. See: https://github.com/scikit-learn/scikit-learn/issues/21755 */display: inline-block !important;position: relative;}#sk-container-id-1 div.sk-text-repr-fallback {display: none;}</style><div id=\"sk-container-id-1\" class=\"sk-top-container\"><div class=\"sk-text-repr-fallback\"><pre>SGDRegressor(learning_rate=&#x27;constant&#x27;, max_iter=2000, tol=1e-07, verbose=True)</pre><b>In a Jupyter environment, please rerun this cell to show the HTML representation or trust the notebook. <br />On GitHub, the HTML representation is unable to render, please try loading this page with nbviewer.org.</b></div><div class=\"sk-container\" hidden><div class=\"sk-item\"><div class=\"sk-estimator sk-toggleable\"><input class=\"sk-toggleable__control sk-hidden--visually\" id=\"sk-estimator-id-1\" type=\"checkbox\" checked><label for=\"sk-estimator-id-1\" class=\"sk-toggleable__label sk-toggleable__label-arrow\">SGDRegressor</label><div class=\"sk-toggleable__content\"><pre>SGDRegressor(learning_rate=&#x27;constant&#x27;, max_iter=2000, tol=1e-07, verbose=True)</pre></div></div></div></div></div>"
      ],
      "text/plain": [
       "SGDRegressor(learning_rate='constant', max_iter=2000, tol=1e-07, verbose=True)"
      ]
     },
     "execution_count": 14,
     "metadata": {},
     "output_type": "execute_result"
    }
   ],
   "source": [
    "reglinear.fit(X_train_br, Y_train_br)"
   ]
  },
  {
   "cell_type": "markdown",
   "metadata": {},
   "source": [
    "------------------------------------"
   ]
  },
  {
   "cell_type": "markdown",
   "metadata": {},
   "source": [
    "# Pós-processamento"
   ]
  },
  {
   "cell_type": "code",
   "execution_count": 15,
   "metadata": {},
   "outputs": [
    {
     "name": "stdout",
     "output_type": "stream",
     "text": [
      "R2_RL: -1.2494969730007154e+23\n"
     ]
    }
   ],
   "source": [
    "Y_rl_previsao = reglinear.predict(X_test_br)\n",
    "r2_r1  =  r2_score(Y_test_br, Y_rl_previsao)\n",
    "print(\"R2_RL:\",r2_r1)"
   ]
  },
  {
   "cell_type": "code",
   "execution_count": 16,
   "metadata": {},
   "outputs": [
    {
     "data": {
      "text/plain": [
       "<matplotlib.legend.Legend at 0x1d394f85880>"
      ]
     },
     "execution_count": 16,
     "metadata": {},
     "output_type": "execute_result"
    },
    {
     "data": {
      "image/png": "[encoded data removed]",
      "text/plain": [
       "<Figure size 432x288 with 1 Axes>"
      ]
     },
     "metadata": {
      "needs_background": "light"
     },
     "output_type": "display_data"
    }
   ],
   "source": [
    "plt.scatter(X_test_br, Y_test_br, alpha=0.5, label= \"Dados de teste\")\n",
    "plt.scatter(X_test_br, Y_rl_previsao, alpha=0.5, label= \"Reg Linear\")\n",
    "plt.xlabel(\"Ano\")\n",
    "plt.ylabel(\"Número de mortes\") \n",
    "plt.legend()"
   ]
  },
  {
   "cell_type": "markdown",
   "metadata": {},
   "source": [
    "# Previsão para um novo dado"
   ]
  },
  {
   "cell_type": "code",
   "execution_count": 17,
   "metadata": {},
   "outputs": [
    {
     "data": {
      "text/plain": [
       "array([[2020]])"
      ]
     },
     "execution_count": 17,
     "metadata": {},
     "output_type": "execute_result"
    }
   ],
   "source": [
    "X_futuro = np.array([[2020]])\n",
    "X_futuro.T"
   ]
  },
  {
   "cell_type": "code",
   "execution_count": 18,
   "metadata": {},
   "outputs": [
    {
     "name": "stderr",
     "output_type": "stream",
     "text": [
      "c:\\Users\\Matheus Vieira\\anaconda3\\envs\\ai4cs\\lib\\site-packages\\sklearn\\base.py:450: UserWarning: X does not have valid feature names, but SGDRegressor was fitted with feature names\n",
      "  warnings.warn(\n"
     ]
    }
   ],
   "source": [
    "Y_reglinear_prev_futuro = reglinear.predict(X_futuro)"
   ]
  },
  {
   "cell_type": "code",
   "execution_count": 19,
   "metadata": {},
   "outputs": [
    {
     "data": {
      "text/plain": [
       "array([[2020]])"
      ]
     },
     "execution_count": 19,
     "metadata": {},
     "output_type": "execute_result"
    }
   ],
   "source": [
    "X_futuro"
   ]
  },
  {
   "cell_type": "code",
   "execution_count": 20,
   "metadata": {},
   "outputs": [
    {
     "data": {
      "text/plain": [
       "array([9.20931438e+14])"
      ]
     },
     "execution_count": 20,
     "metadata": {},
     "output_type": "execute_result"
    }
   ],
   "source": [
    "Y_reglinear_prev_futuro"
   ]
  },
  {
   "cell_type": "code",
   "execution_count": 21,
   "metadata": {},
   "outputs": [
    {
     "data": {
      "text/plain": [
       "<matplotlib.legend.Legend at 0x1d39503f0a0>"
      ]
     },
     "execution_count": 21,
     "metadata": {},
     "output_type": "execute_result"
    },
    {
     "data": {
      "image/png": "[encoded data removed]",
      "text/plain": [
       "<Figure size 432x288 with 1 Axes>"
      ]
     },
     "metadata": {
      "needs_background": "light"
     },
     "output_type": "display_data"
    }
   ],
   "source": [
    "plt.scatter(X_br, Y_br, label=\"Mortes por poluição do ar\")\n",
    "plt.scatter(X_futuro, Y_reglinear_prev_futuro, label= \"Reg Linear\")\n",
    "plt.xlabel(\"Ano\")\n",
    "plt.ylabel(\"Número de mortes\")\n",
    "plt.legend()"
   ]
  }
 ],
 "metadata": {
  "kernelspec": {
   "display_name": "Python 3.9.12 ('ai4cs')",
   "language": "python",
   "name": "python3"
  },
  "language_info": {
   "codemirror_mode": {
    "name": "ipython",
    "version": 3
   },
   "file_extension": ".py",
   "mimetype": "text/x-python",
   "name": "python",
   "nbconvert_exporter": "python",
   "pygments_lexer": "ipython3",
   "version": "3.9.12"
  },
  "orig_nbformat": 4,
  "vscode": {
   "interpreter": {
    "hash": "53bbabffcbeea0520c20c8473c9ddf164eb3f8bc7dad8e611507be191c578d7e"
   }
  }
 },
 "nbformat": 4,
 "nbformat_minor": 2
}
